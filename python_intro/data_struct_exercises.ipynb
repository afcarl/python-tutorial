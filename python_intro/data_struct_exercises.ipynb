{
 "metadata": {
  "name": "data_struct_exercises"
 },
 "nbformat": 3,
 "nbformat_minor": 0,
 "worksheets": [
  {
   "cells": [
    {
     "cell_type": "markdown",
     "metadata": {},
     "source": [
      "# Exercise 1\n",
      "\n",
      "1. Calculate the mean of the numbers 2, 3, and 10."
     ]
    },
    {
     "cell_type": "code",
     "collapsed": true,
     "input": [
      "  "
     ],
     "language": "python",
     "metadata": {},
     "outputs": []
    },
    {
     "cell_type": "markdown",
     "metadata": {},
     "source": [
      "# Exercise 2\n",
      "\n",
      "1. Make a list containing the names of your five favorite animals"
     ]
    },
    {
     "cell_type": "code",
     "collapsed": true,
     "input": [],
     "language": "python",
     "metadata": {},
     "outputs": []
    },
    {
     "cell_type": "markdown",
     "metadata": {},
     "source": [
      "2. Add two more animals to the list"
     ]
    },
    {
     "cell_type": "code",
     "collapsed": true,
     "input": [
      "   "
     ],
     "language": "python",
     "metadata": {},
     "outputs": []
    },
    {
     "cell_type": "markdown",
     "metadata": {},
     "source": [
      "# Exercise 3\n",
      "\n",
      "1. Make a dictionary whose keys are the strings \"zero\" through \"nine\" and whose values are ints 0 through 9."
     ]
    },
    {
     "cell_type": "code",
     "collapsed": true,
     "input": [
      "digitsdict = {}\n",
      "\n",
      "#  Your code goes here"
     ],
     "language": "python",
     "metadata": {},
     "outputs": []
    },
    {
     "cell_type": "markdown",
     "metadata": {},
     "source": [
      "# Exercise 4\n",
      "\n",
      "1. Make a dictionary and experiment using different types as keys and values. Can containers be values? (that is, can you have a dictionary that contains several lists?)  Can containers be keys?"
     ]
    },
    {
     "cell_type": "code",
     "collapsed": true,
     "input": [
      "  "
     ],
     "language": "python",
     "metadata": {},
     "outputs": []
    }
   ],
   "metadata": {}
  }
 ]
}