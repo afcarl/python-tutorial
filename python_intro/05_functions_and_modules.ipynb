{
 "metadata": {
  "name": "05_functions_and_modules"
 },
 "nbformat": 3,
 "nbformat_minor": 0,
 "worksheets": [
  {
   "cells": [
    {
     "cell_type": "markdown",
     "metadata": {},
     "source": [
      "# Python: Functions and Modules"
     ]
    },
    {
     "cell_type": "markdown",
     "metadata": {},
     "source": [
      "Presented by: Jake Vanderplas\n",
      "\n",
      "*Adapted from work by Software Carpentry instructors (John Blischak, Joshua R. Smith, Milad Fatenejad, Katy Huff, Tommy Guy and many more)*"
     ]
    },
    {
     "cell_type": "markdown",
     "metadata": {},
     "source": [
      "As you saw in the last lesson, computers are very useful for doing the same operation over and over. When you know you will be performing the same operation many times, it is best to abstract this functionality into a function (aka method). For example, you used the function `open` in an earlier section. This allowed you to easily open a conncetion to a file without worrying about the underlying code that made it possible (this idea is known as abstraction).   "
     ]
    },
    {
     "cell_type": "markdown",
     "metadata": {},
     "source": [
      "# Built-in string methods\n",
      "The base distribution comes with many useful functions. When a function works on a specific type of data (lists, strings, dictionaries, etc.), it is called a method.  I will cover some of the basic string methods since they are very useful for reading data into Python."
     ]
    },
    {
     "cell_type": "code",
     "collapsed": false,
     "input": [
      "# Find the start codon of a gene\n",
      "dna = 'CTGTTGACATGCATTCACGCTACGCTAGCT'\n",
      "dna.find('ATG')"
     ],
     "language": "python",
     "metadata": {},
     "outputs": []
    },
    {
     "cell_type": "code",
     "collapsed": false,
     "input": [
      "# parsing a line from a comma-delimted file\n",
      "lotto_numbers = '4,8,15,16,23,42\\n'\n",
      "lotto_numbers.strip().split(',')"
     ],
     "language": "python",
     "metadata": {},
     "outputs": []
    },
    {
     "cell_type": "code",
     "collapsed": false,
     "input": [
      "question = '%H%ow%z%d%@d%z%th%ez$%@p%ste%rzb%ur%nz%$%@szt%on%gue%?%'\n",
      "print question.replace('%', '').replace('@', 'i').replace('$', 'h').replace('z', ' ')"
     ],
     "language": "python",
     "metadata": {},
     "outputs": []
    },
    {
     "cell_type": "code",
     "collapsed": false,
     "input": [
      "answer = '=H=&!dr=a=nk!c=~ff&&!be=f~r&=!i=t!w=as!c=~~l.='\n",
      "print answer.replace('=', '').replace('&', 'e').replace('~', 'o').replace('!', ' ')"
     ],
     "language": "python",
     "metadata": {},
     "outputs": []
    },
    {
     "cell_type": "markdown",
     "metadata": {},
     "source": [
      "## Short Exercise: Calculate GC content of DNA"
     ]
    },
    {
     "cell_type": "markdown",
     "metadata": {},
     "source": [
      "Because the binding strength of guanine (G) to cytosine (C) is different from the binding strength of adenine (A) to thymine (T) (and many other differences), it is often useful to know the fraction of a DNA sequence that is G's or C's. Go to the [string method section](http://docs.python.org/2/library/string.html) of the Python documentation and find the string method that will allow you to calculate this fraction."
     ]
    },
    {
     "cell_type": "code",
     "collapsed": false,
     "input": [
      "# Calculate the fraction of G's and C's in this DNA sequence\n",
      "seq1 = 'ACGTACGTAGCTAGTAGCTACGTAGCTACGTA'\n",
      "gc = "
     ],
     "language": "python",
     "metadata": {},
     "outputs": []
    },
    {
     "cell_type": "markdown",
     "metadata": {},
     "source": [
      "Check your work:"
     ]
    },
    {
     "cell_type": "code",
     "collapsed": false,
     "input": [
      "round(gc, ndigits = 2) == .47"
     ],
     "language": "python",
     "metadata": {},
     "outputs": []
    },
    {
     "cell_type": "markdown",
     "metadata": {},
     "source": [
      "# Creating your own functions!\n",
      "When there is not an available function to perform a task, you can write your own functions."
     ]
    },
    {
     "cell_type": "code",
     "collapsed": true,
     "input": [
      "def square(x):\n",
      "    return x * x"
     ],
     "language": "python",
     "metadata": {},
     "outputs": []
    },
    {
     "cell_type": "code",
     "collapsed": false,
     "input": [
      "print square(2), square(square(2))"
     ],
     "language": "python",
     "metadata": {},
     "outputs": []
    },
    {
     "cell_type": "code",
     "collapsed": true,
     "input": [
      "def hello(time, name):\n",
      "    \"\"\"Print a nice message. Time and name should both be strings.\n",
      "    \n",
      "    Example: hello('morning', 'Software Carpentry')\n",
      "    \"\"\"\n",
      "    print 'Good ' + time + ', ' + name + '!'"
     ],
     "language": "python",
     "metadata": {},
     "outputs": []
    },
    {
     "cell_type": "code",
     "collapsed": false,
     "input": [
      "hello('afternoon', 'Software Carpentry')"
     ],
     "language": "python",
     "metadata": {},
     "outputs": []
    },
    {
     "cell_type": "markdown",
     "metadata": {},
     "source": [
      "The description right below the function name is called a docstring. For best practices on composing docstrings, read [PEP 257 -- Docstring Conventions](http://www.python.org/dev/peps/pep-0257/)."
     ]
    },
    {
     "cell_type": "markdown",
     "metadata": {},
     "source": [
      "## Short exercise: Write a function to calculate GC content of DNA\n",
      "Make a function that calculate the GC content of a given DNA sequence. For the more advanced participants, make your function able to handle sequences of mixed case (see the third test case)."
     ]
    },
    {
     "cell_type": "code",
     "collapsed": true,
     "input": [
      "def calculate_gc(x):\n",
      "    \"\"\"Calculates the GC content of DNA sequence x.\n",
      "    x: a string composed only of A's, T's, G's, and C's.\"\"\""
     ],
     "language": "python",
     "metadata": {},
     "outputs": []
    },
    {
     "cell_type": "markdown",
     "metadata": {},
     "source": [
      "Check your work:"
     ]
    },
    {
     "cell_type": "code",
     "collapsed": false,
     "input": [
      "print round(calculate_gc('ATGC'), ndigits = 2) == 0.50\n",
      "print round(calculate_gc('AGCGTCGTCAGTCGT'), ndigits = 2) == 0.60\n",
      "print round(calculate_gc('ATaGtTCaAGcTCgATtGaATaGgTAaCt'), ndigits = 2) == 0.34"
     ],
     "language": "python",
     "metadata": {},
     "outputs": []
    },
    {
     "cell_type": "markdown",
     "metadata": {},
     "source": [
      "# Modules\n",
      "Python has a lot of useful data type and functions built into the language, some of which you have already seen. For a full list, you can type `dir(__builtins__)`. However, there are even more functions stored in modules. An example is the sine function, which is stored in the math module. In order to access mathematical functions, like sin, we need to `import` the math module. Lets take a look at a simple example:"
     ]
    },
    {
     "cell_type": "code",
     "collapsed": false,
     "input": [
      "print sin(3) # Error! Python doesn't know what sin is...yet"
     ],
     "language": "python",
     "metadata": {},
     "outputs": []
    },
    {
     "cell_type": "code",
     "collapsed": false,
     "input": [
      "import math # Import the math module\n",
      "math.sin(3)"
     ],
     "language": "python",
     "metadata": {},
     "outputs": []
    },
    {
     "cell_type": "code",
     "collapsed": false,
     "input": [
      "print dir(math) # See a list of everything in the math module"
     ],
     "language": "python",
     "metadata": {},
     "outputs": []
    },
    {
     "cell_type": "code",
     "collapsed": true,
     "input": [
      "help(math) # Get help information for the math module"
     ],
     "language": "python",
     "metadata": {},
     "outputs": []
    },
    {
     "cell_type": "markdown",
     "metadata": {},
     "source": [
      "It is not very difficult to use modules - you just have to know the module name and import it. There are a few variations on the import statement that can be used to make your life easier. Lets take a look at an example:"
     ]
    },
    {
     "cell_type": "code",
     "collapsed": false,
     "input": [
      "from math import *  # import everything from math into the global namespace (A BAD IDEA IN GENERAL)\n",
      "print sin(3)        # notice that we don't need to type math.sin anymore\n",
      "print tan(3)        # the tangent function was also in math, so we can use that too"
     ],
     "language": "python",
     "metadata": {},
     "outputs": []
    },
    {
     "cell_type": "code",
     "collapsed": true,
     "input": [
      "%reset # Clear everything from IPython"
     ],
     "language": "python",
     "metadata": {},
     "outputs": []
    },
    {
     "cell_type": "code",
     "collapsed": false,
     "input": [
      "from math import sin  # Import just sin from the math module. This is a good idea.\n",
      "print sin(3)          # We can use sin because we just imported it\n",
      "print tan(3)          # Error: We only imported sin - not tan"
     ],
     "language": "python",
     "metadata": {},
     "outputs": []
    },
    {
     "cell_type": "code",
     "collapsed": true,
     "input": [
      "reset                 # Clear everything"
     ],
     "language": "python",
     "metadata": {},
     "outputs": []
    },
    {
     "cell_type": "code",
     "collapsed": false,
     "input": [
      "import math as m      # Same as import math, except we are renaming the module m\n",
      "print m.sin(3)        # This is really handy if you have module names that are long"
     ],
     "language": "python",
     "metadata": {},
     "outputs": []
    },
    {
     "cell_type": "markdown",
     "metadata": {},
     "source": [
      "## The General Problem\n",
      "![xkcd](http://imgs.xkcd.com/comics/the_general_problem.png \"I find that when someone's taking time to do something right in the present, they're a perfectionist with no ability to prioritize, whereas when someone took time to do something right in the past, they're a master artisan of great foresight.\")\n",
      "From [xkcd](http://www.xkcd.com)\n",
      "\n",
      "Now that you can write your own functions, you too will experience the dilemma of deciding whether to spend the extra time to make your code more general, and therefore more easily reused in the future."
     ]
    },
    {
     "cell_type": "heading",
     "level": 2,
     "metadata": {},
     "source": [
      "Exercise: Factorial Function"
     ]
    },
    {
     "cell_type": "markdown",
     "metadata": {},
     "source": [
      "1. Write a function which uses a loop to compute the factorial of a number.  For example:\n",
      "\n",
      "\n",
      "        >>> factorial(4)  # 4 * 3 * 2 * 1\n",
      "        24\n",
      "        >>> factorial(3)  # 3 * 2 * 1\n",
      "        6\n"
     ]
    },
    {
     "cell_type": "code",
     "collapsed": false,
     "input": [
      "def factorial(n):\n",
      "    # fill this in"
     ],
     "language": "python",
     "metadata": {},
     "outputs": []
    },
    {
     "cell_type": "markdown",
     "metadata": {},
     "source": [
      "Bonus: write a *recursive* function to calculate a factorial:\n",
      "\n",
      "A recursive function is one which calls itself.  For example:\n",
      "\n",
      "    def factorial(n):\n",
      "        # if n is small enough, end the recursion\n",
      "        # otherwise, return n * factorial(n - 1)\n",
      "\n",
      "Don't worry if this seems a bit obscure... we'll talk about it in a bit."
     ]
    },
    {
     "cell_type": "heading",
     "level": 2,
     "metadata": {},
     "source": [
      "Exercise: Checking the result"
     ]
    },
    {
     "cell_type": "markdown",
     "metadata": {},
     "source": [
      "Check the result of your previous function using the ``gamma`` function,\n",
      "available in the ``math`` module.  If you're not familiar with the relationship\n",
      "between gamma and factorial, use the computer scientist's greatest ally: Google."
     ]
    },
    {
     "cell_type": "code",
     "collapsed": false,
     "input": [],
     "language": "python",
     "metadata": {},
     "outputs": []
    },
    {
     "cell_type": "heading",
     "level": 2,
     "metadata": {},
     "source": [
      "Exercise: Fizz-Buzz"
     ]
    },
    {
     "cell_type": "markdown",
     "metadata": {},
     "source": [
      "Write a program that prints the numbers from 1 to N. But for multiples of three print \u201cFizz\u201d instead of the number and for the multiples of five print \u201cBuzz\u201d. For numbers which are multiples of both three and five print \u201cFizzBuzz\u201d\n",
      "\n",
      "For example, the first few should be:\n",
      "\n",
      "    >>> fizzbuzz(15)\n",
      "    1\n",
      "    2\n",
      "    Fizz\n",
      "    4\n",
      "    Buzz\n",
      "    Fizz\n",
      "    7\n",
      "    8\n",
      "    Fizz\n",
      "    Buzz\n",
      "    11\n",
      "    Fizz\n",
      "    13\n",
      "    14\n",
      "    FizzBuzz\n",
      "\n",
      "You should use **loops**, **if-else** statements, and a **function**:"
     ]
    },
    {
     "cell_type": "code",
     "collapsed": false,
     "input": [
      "def fizzbuzz(N):\n",
      "    # fill this in"
     ],
     "language": "python",
     "metadata": {},
     "outputs": []
    },
    {
     "cell_type": "heading",
     "level": 2,
     "metadata": {},
     "source": [
      "Bonus Exercise: Recursive Fibonacci Series"
     ]
    },
    {
     "cell_type": "markdown",
     "metadata": {},
     "source": [
      "Write a *recursive* function (i.e. one that calls itself) to compute the $N^{th}$ fibonacci number.\n",
      "\n",
      "Recall that the Fibonacci series is\n",
      "\n",
      "    1, 1, 2, 3, 5, 8 ...\n",
      "\n",
      "So if the $N^{th}$ value is $F_N$, it can be expressed $F_N = F_{N-1} + F_{N-2}$,\n",
      "with $F_0 = F_1 = 1$."
     ]
    },
    {
     "cell_type": "code",
     "collapsed": false,
     "input": [
      "def fibonacci(N):\n",
      "    # fill this in:\n",
      "    # return (eventually) the N^th Fibonacci number"
     ],
     "language": "python",
     "metadata": {},
     "outputs": []
    },
    {
     "cell_type": "markdown",
     "metadata": {},
     "source": [
      "# Bonus Exercise: Transcribe DNA to RNA\n",
      "### Motivation:\n",
      "During transcription, an enzyme called RNA Polymerase reads the DNA sequence and creates a complementary RNA sequence. Furthermore, RNA has the nucleotide uracil (U) instead of thymine (T). \n",
      "### Task:\n",
      "Write a function that mimics transcription. The input argument is a string that contains the letters A, T, G, and C. Create a new string following these rules: \n",
      "\n",
      "* Convert A to U\n",
      "\n",
      "* Convert T to A\n",
      "\n",
      "* Convert G to C\n",
      "\n",
      "* Convert C to G\n",
      "\n",
      "Hint: You can iterate through a string using a for loop similary to how you loop through a list."
     ]
    },
    {
     "cell_type": "code",
     "collapsed": true,
     "input": [
      "def transcribe(seq):\n",
      "    \"\"\"Write your docstring here.\n",
      "    \"\"\""
     ],
     "language": "python",
     "metadata": {},
     "outputs": []
    },
    {
     "cell_type": "markdown",
     "metadata": {},
     "source": [
      "Check your work:"
     ]
    },
    {
     "cell_type": "code",
     "collapsed": true,
     "input": [
      "transcribe('ATGC') == 'UACG'"
     ],
     "language": "python",
     "metadata": {},
     "outputs": []
    },
    {
     "cell_type": "code",
     "collapsed": true,
     "input": [
      "transcribe('ATGCAGTCAGTGCAGTCAGT') == 'UACGUCAGUCACGUCAGUCA'"
     ],
     "language": "python",
     "metadata": {},
     "outputs": []
    }
   ],
   "metadata": {}
  }
 ]
}